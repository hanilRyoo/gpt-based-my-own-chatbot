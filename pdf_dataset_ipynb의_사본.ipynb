{
  "nbformat": 4,
  "nbformat_minor": 0,
  "metadata": {
    "colab": {
      "provenance": [],
      "authorship_tag": "ABX9TyO49qA3pT8csOiDfqxmZQ+N",
      "include_colab_link": true
    },
    "kernelspec": {
      "name": "python3",
      "display_name": "Python 3"
    },
    "language_info": {
      "name": "python"
    }
  },
  "cells": [
    {
      "cell_type": "markdown",
      "metadata": {
        "id": "view-in-github",
        "colab_type": "text"
      },
      "source": [
        "<a href=\"https://colab.research.google.com/github/hanilRyoo/gpt-based-my-own-chatbot/blob/main/pdf_dataset_ipynb%EC%9D%98_%EC%82%AC%EB%B3%B8.ipynb\" target=\"_parent\"><img src=\"https://colab.research.google.com/assets/colab-badge.svg\" alt=\"Open In Colab\"/></a>"
      ]
    },
    {
      "cell_type": "code",
      "execution_count": null,
      "metadata": {
        "id": "v5BB81pmvn0p",
        "colab": {
          "base_uri": "https://localhost:8080/"
        },
        "outputId": "d6016816-963f-42a5-b3cd-53a33e0edc14"
      },
      "outputs": [
        {
          "output_type": "stream",
          "name": "stdout",
          "text": [
            "\u001b[?25l     \u001b[90m━━━━━━━━━━━━━━━━━━━━━━━━━━━━━━━━━━━━━━━━\u001b[0m \u001b[32m0.0/104.6 kB\u001b[0m \u001b[31m?\u001b[0m eta \u001b[36m-:--:--\u001b[0m\r\u001b[2K     \u001b[91m━━━━━━━━━━━━━━━━━━━━━━━━━━━━━━━━━━━━━━━\u001b[0m\u001b[90m╺\u001b[0m \u001b[32m102.4/104.6 kB\u001b[0m \u001b[31m3.3 MB/s\u001b[0m eta \u001b[36m0:00:01\u001b[0m\r\u001b[2K     \u001b[90m━━━━━━━━━━━━━━━━━━━━━━━━━━━━━━━━━━━━━━━━\u001b[0m \u001b[32m104.6/104.6 kB\u001b[0m \u001b[31m2.6 MB/s\u001b[0m eta \u001b[36m0:00:00\u001b[0m\n",
            "\u001b[?25h\u001b[31mERROR: pip's dependency resolver does not currently take into account all the packages that are installed. This behaviour is the source of the following dependency conflicts.\n",
            "kubernetes 28.1.0 requires urllib3<2.0,>=1.24.2, but you have urllib3 2.1.0 which is incompatible.\u001b[0m\u001b[31m\n",
            "\u001b[0m"
          ]
        }
      ],
      "source": [
        "!pip install -q openai langchain langchainhub pypdf"
      ]
    },
    {
      "cell_type": "code",
      "source": [
        "import os\n",
        "from google.colab import drive\n",
        "\n",
        "# This line mounts your Google Drive to the Colab notebook.\n",
        "drive.mount('/content/gdrive', force_remount=True)\n",
        "\n",
        "# Define the root directory and the specific folder path.\n",
        "root_dir = \"/content/gdrive/My Drive/\"\n",
        "pdf_folder_path = os.path.join(root_dir, '교양과목/data/')\n",
        "\n",
        "# List the contents of the specified folder.\n",
        "files = os.listdir(pdf_folder_path)\n",
        "print(files)\n"
      ],
      "metadata": {
        "colab": {
          "base_uri": "https://localhost:8080/"
        },
        "id": "re1RP2KN2AFv",
        "outputId": "dc65c468-ad4d-489d-afd7-864101cd150a"
      },
      "execution_count": null,
      "outputs": [
        {
          "output_type": "stream",
          "name": "stdout",
          "text": [
            "Mounted at /content/gdrive\n",
            "['2023학년도 대학생활안내.pdf', '생활의화학.pdf', '환경과학.pdf', '지구의이해.pdf', '과학사의이해.pdf', '미디어문화와디자인.pdf', '포스트휴먼과상상력.pdf', '36.5도의물리학.pdf', '세상을바꾸는커뮤니케이션.pdf', '빅데이터의과학적탐구.pdf', '삶속의생명과학.pdf', '대학과학문.pdf', '철학과삶.pdf', '서양문학기행.pdf', '프랑스감성과문학.pdf', '예술감성과미학.pdf', '한국인의삶과문학.pdf', '미디어로보는일본문학과감성.pdf', '문화야놀자_기억과놀이.pdf', '이큐독문학.pdf', '사랑과폭력의인문학.pdf', '디지털시대로컬문화큐레이팅.pdf', '중국문학의숲에서거닐다.pdf', '한국사.pdf', '현대사회의이해.pdf', '분쟁의세계지리.pdf', '공동체와현대행정.pdf', '동양의역사와문화.pdf', '서양의역사와문화.pdf', '공존과협력의심리.pdf', '인류진화와고대문명.pdf', '민주주의와공동체.pdf', '결혼과가족의이해.pdf', '공동체와담론.pdf', '윤리적사유와공동체.pdf', '세계속의프랑스문화공동체.pdf', '세계문화탐험.pdf', '수학1.pdf', '일반화학1.pdf', '생물실험2.pdf', '수학2연습.pdf', '일반물리1.pdf', '지구과학1.pdf', '지구과학2.pdf', '대학수학.pdf', '기초통계학.pdf', '기초중국어.pdf', '생활중국어.pdf', '기초일본어.pdf', '기초독일어.pdf', '생활독일어.pdf', '논리학.pdf', '기초스페인어.pdf', '생활스페인어.pdf', '기초러시아어.pdf', '고전라틴어.pdf', '언어의이해.pdf', '취업영어.pdf', '한자와중국문화.pdf', '영어읽기와토론.pdf', '프랑스어입문.pdf', '실생활프랑스어.pdf', '영화와드라마로배우는영어.pdf', '기초수어.pdf', '네트워크와모바일기술.pdf', '공학을위한컴퓨터과학적사고.pdf', '자연과학을위한컴퓨터과학적사고.pdf', '인문사회과학을위한컴퓨터과학적사고.pdf', '에듀테크의이해.pdf', '디지털인문학.pdf', '문화예술을위한컴퓨터과학적사고.pdf', '농생명과학을위한컴퓨터과학적사고.pdf', '의생명과학을위한컴퓨터과학적사고.pdf', '디지털혁신의컴퓨터과학적사고.pdf', '지능정보기술과미래사회.pdf', '인공지능기초.pdf', '중국의이해.pdf', '인간과가치.pdf', '역사의이해.pdf', '심리학개론.pdf', '법학개론.pdf', '여성과법률.pdf', '한국경제의이해.pdf', '현대한국정치의이해.pdf', '국제사회의이해.pdf', '문학과여행.pdf', '유럽의대중문화.pdf', '호남의역사와문화.pdf', '현대사회와정신건강.pdf', '5.18항쟁과민주.인권.pdf', '현대인권과법.pdf', '생활법률.pdf', '행복심리학행복심리학.pdf', '독일의이해.pdf', '현대과학론.pdf', '미디어와사회.pdf', '문화예술과저작권.pdf', '김대중의사상과리더십.pdf', '경제학개론.pdf', '경영의이해.pdf', '삶과지적대화.pdf', '인구변동과다문화교육.pdf', '호남감성문화산책.pdf', '고전과우리문화.pdf', '문학과인간.pdf', '젠더와문학.pdf', '역사속의도시들.pdf', '여행과역사.pdf', '현대사회와성.pdf', '과학기술과사회.pdf', '인간과정치.pdf', '통일과북한사회.pdf', '세계와글로벌코리안.pdf', '동양사상과현대의만남.pdf', '가족인문학.pdf', '정책의이해.pdf', '신체와성.pdf', '지속가능한소비.pdf', '마을인문학.pdf', '범죄와자기방어.pdf', '라이프아카데미.pdf', '그리스신화와철학.pdf', '영화로보는한국사회와사회운동.pdf', '여수바다여행놀이.pdf', '연애의첫단추.pdf', '식품과영양.pdf', '공학소양특강.pdf', '의상속의과학세계.pdf', '해양과학의이해.pdf', '빅데이터시대의금융투자.pdf', '숨어있는한반도의지질.pdf', '블록체인의이해.pdf', '반려동물교감체험.pdf', '음악의이해.pdf', '영화로보는세상.pdf', '한국음악의이해.pdf', '현대사회와스포츠.pdf', '피트니스.pdf', '운동과건강관리.pdf', '생활건강.pdf', '여성과건강.pdf', '영상으로보는중국.pdf', '패션과문화.pdf', '멀티미디어콘텐츠제작.pdf', '독일문화와예술독일문화와예술.pdf', '건축의이해.pdf', '한국사입문.pdf', '자기계발을위한코칭리더십.pdf', '실용금융의이해.pdf', '문화예술경영의이해.pdf', '도시와문화예술.pdf', '미디어와영상콘텐츠.pdf', '여행의세계.pdf', '대학과사회봉사1.pdf', '영화와영상콘텐츠.pdf', '시간과자기계발.pdf', '일본영화감상과이해.pdf', '댄스스포츠기초.pdf', '축구기초.pdf', '태권도기초.pdf', '자기주도미래설계.pdf', '크리에이터.pdf', '합창의발견.pdf', '스포츠와생활안전.pdf', '뮤지컬의이해.pdf', '인생은연극.pdf', '스트레스관리와건강생활.pdf', '생활한국어1.pdf', '생활한국어2.pdf', '생활한국어3.pdf', '생활한국어4.pdf', '대학한국어1.pdf', '대학한국어2.pdf', '한국어초급1.pdf', '한국어초급2.pdf', '한국어초급3.pdf', '한국어초급4.pdf', '한국어중급1.pdf', '한국어중급2.pdf', '한국어중급3.pdf', '한국어중급4.pdf', '다큐로만나는타인의삶.pdf', '말하기의전략.pdf', '토론과민주지성.pdf', '효과적인말하기.pdf', '인문사회글쓰기.pdf', '과학기술글쓰기.pdf', '삶을바꾸는고전읽기.pdf', '과학기술과지식재산.pdf', '기술과창업.pdf', '여성의자기계발과취업전략.pdf', '아시아공동체와창업.pdf', '프랑스어권취업과창업.pdf', '수산경영과창업.pdf', '학생자율연구.pdf', '창의적문제해결입문.pdf', '영상매체로이해하는창업.pdf', '재미있는창업실무.pdf', '소공-교양_1.pdf', '용봉이-답변.pdf']\n"
          ]
        }
      ]
    },
    {
      "cell_type": "code",
      "source": [
        "len(files)"
      ],
      "metadata": {
        "colab": {
          "base_uri": "https://localhost:8080/"
        },
        "id": "A0Sozl4NfYd5",
        "outputId": "ef7b98c2-eab3-4747-b40b-82188093d1fa"
      },
      "execution_count": null,
      "outputs": [
        {
          "output_type": "execute_result",
          "data": {
            "text/plain": [
              "200"
            ]
          },
          "metadata": {},
          "execution_count": 3
        }
      ]
    },
    {
      "cell_type": "code",
      "source": [
        "import os\n",
        "os.environ[\"OPENAI_API_KEY\"] = '자신의 gpt api'\n",
        "\n",
        "from langchain.document_loaders import PyPDFDirectoryLoader\n",
        "loader = PyPDFDirectoryLoader(pdf_folder_path)\n",
        "docs = loader.load()\n",
        "#docs[0].page_content[:100]"
      ],
      "metadata": {
        "id": "t7MH5P6m2ATo"
      },
      "execution_count": null,
      "outputs": []
    },
    {
      "cell_type": "code",
      "source": [
        "from langchain.text_splitter import CharacterTextSplitter\n",
        "\n",
        "text_splitter = CharacterTextSplitter(chunk_size=800, chunk_overlap=100)\n",
        "texts = text_splitter.split_documents(docs)"
      ],
      "metadata": {
        "id": "Ak_iZLZt2AV_"
      },
      "execution_count": null,
      "outputs": []
    },
    {
      "cell_type": "code",
      "source": [
        "!pip install -q langchain openai tiktoken chromadb"
      ],
      "metadata": {
        "id": "XHwcYSu1ydPE",
        "colab": {
          "base_uri": "https://localhost:8080/"
        },
        "outputId": "ea55a943-1d04-4af3-b724-965dc1a836e8"
      },
      "execution_count": null,
      "outputs": [
        {
          "output_type": "stream",
          "name": "stdout",
          "text": [
            "\u001b[31mERROR: pip's dependency resolver does not currently take into account all the packages that are installed. This behaviour is the source of the following dependency conflicts.\n",
            "types-requests 2.31.0.10 requires urllib3>=2, but you have urllib3 1.26.18 which is incompatible.\u001b[0m\u001b[31m\n",
            "\u001b[0m"
          ]
        }
      ]
    },
    {
      "cell_type": "code",
      "source": [
        "from langchain.embeddings.openai import OpenAIEmbeddings\n",
        "from langchain.vectorstores import Chroma\n",
        "\n",
        "# 임베딩\n",
        "embeddings = OpenAIEmbeddings()\n",
        "# Chroma DB 에 저장\n",
        "docsearch = Chroma.from_documents(texts, embeddings)\n",
        "# retriever 가져옴\n",
        "retriever = docsearch.as_retriever(search_kwargs={\"k\": 4})"
      ],
      "metadata": {
        "id": "B0gAXwlV2Fdp"
      },
      "execution_count": null,
      "outputs": []
    },
    {
      "cell_type": "code",
      "source": [
        "# docs = retriever.get_relevant_documents(\"소프트웨어공학과 교양 과목\")\n",
        "# print('유사 문서 개수 :', len(docs))\n",
        "# print('--' * 20)\n",
        "# print('첫번째 유사 문서 :', docs[0])\n",
        "# print('--' * 20)\n",
        "# print('각 유사 문서의 문서 출처 :')\n",
        "# for doc in docs:\n",
        "#     print(doc.metadata[\"source\"])"
      ],
      "metadata": {
        "id": "ExPXTlDsy3lO"
      },
      "execution_count": null,
      "outputs": []
    },
    {
      "cell_type": "code",
      "source": [
        "from langchain.chat_models import ChatOpenAI\n",
        "from langchain.chains import RetrievalQA\n",
        "\n",
        "qa_chain = RetrievalQA.from_chain_type(\n",
        "    llm=ChatOpenAI(model_name=\"gpt-4-1106-preview\",  max_tokens=4000, temperature=0.0),\n",
        "    chain_type=\"stuff\",\n",
        "    retriever=retriever,\n",
        "    return_source_documents=False)\n",
        "\n",
        "#gpt-3.5-turbo\n",
        "#gpt-4-1106-preview"
      ],
      "metadata": {
        "id": "ks78FgGwy3pH"
      },
      "execution_count": null,
      "outputs": []
    },
    {
      "cell_type": "code",
      "source": [
        "# input_text = \"소프트웨어공학과 교양필수 과목은 뭐가있어?\"\n",
        "# chatbot_response = qa_chain(input_text)\n",
        "# chatbot_response"
      ],
      "metadata": {
        "id": "uyqiWOd07nRA"
      },
      "execution_count": null,
      "outputs": []
    },
    {
      "cell_type": "code",
      "source": [
        "!pip install kaleido cohere"
      ],
      "metadata": {
        "colab": {
          "base_uri": "https://localhost:8080/"
        },
        "id": "_PdMU2Jt6tQH",
        "outputId": "be788b0a-560e-4fe4-985f-59de36791c4e"
      },
      "execution_count": null,
      "outputs": [
        {
          "output_type": "stream",
          "name": "stdout",
          "text": [
            "Requirement already satisfied: kaleido in /usr/local/lib/python3.10/dist-packages (0.2.1)\n",
            "Requirement already satisfied: cohere in /usr/local/lib/python3.10/dist-packages (4.37)\n",
            "Requirement already satisfied: aiohttp<4.0,>=3.0 in /usr/local/lib/python3.10/dist-packages (from cohere) (3.9.1)\n",
            "Requirement already satisfied: backoff<3.0,>=2.0 in /usr/local/lib/python3.10/dist-packages (from cohere) (2.2.1)\n",
            "Requirement already satisfied: fastavro<2.0,>=1.8 in /usr/local/lib/python3.10/dist-packages (from cohere) (1.9.1)\n",
            "Requirement already satisfied: importlib_metadata<7.0,>=6.0 in /usr/local/lib/python3.10/dist-packages (from cohere) (6.8.0)\n",
            "Requirement already satisfied: requests<3.0.0,>=2.25.0 in /usr/local/lib/python3.10/dist-packages (from cohere) (2.31.0)\n",
            "Requirement already satisfied: urllib3<3,>=1.26 in /usr/local/lib/python3.10/dist-packages (from cohere) (1.26.18)\n",
            "Requirement already satisfied: attrs>=17.3.0 in /usr/local/lib/python3.10/dist-packages (from aiohttp<4.0,>=3.0->cohere) (23.1.0)\n",
            "Requirement already satisfied: multidict<7.0,>=4.5 in /usr/local/lib/python3.10/dist-packages (from aiohttp<4.0,>=3.0->cohere) (6.0.4)\n",
            "Requirement already satisfied: yarl<2.0,>=1.0 in /usr/local/lib/python3.10/dist-packages (from aiohttp<4.0,>=3.0->cohere) (1.9.3)\n",
            "Requirement already satisfied: frozenlist>=1.1.1 in /usr/local/lib/python3.10/dist-packages (from aiohttp<4.0,>=3.0->cohere) (1.4.0)\n",
            "Requirement already satisfied: aiosignal>=1.1.2 in /usr/local/lib/python3.10/dist-packages (from aiohttp<4.0,>=3.0->cohere) (1.3.1)\n",
            "Requirement already satisfied: async-timeout<5.0,>=4.0 in /usr/local/lib/python3.10/dist-packages (from aiohttp<4.0,>=3.0->cohere) (4.0.3)\n",
            "Requirement already satisfied: zipp>=0.5 in /usr/local/lib/python3.10/dist-packages (from importlib_metadata<7.0,>=6.0->cohere) (3.17.0)\n",
            "Requirement already satisfied: charset-normalizer<4,>=2 in /usr/local/lib/python3.10/dist-packages (from requests<3.0.0,>=2.25.0->cohere) (3.3.2)\n",
            "Requirement already satisfied: idna<4,>=2.5 in /usr/local/lib/python3.10/dist-packages (from requests<3.0.0,>=2.25.0->cohere) (3.6)\n",
            "Requirement already satisfied: certifi>=2017.4.17 in /usr/local/lib/python3.10/dist-packages (from requests<3.0.0,>=2.25.0->cohere) (2023.11.17)\n"
          ]
        }
      ]
    },
    {
      "cell_type": "code",
      "source": [
        "#!pip uninstall -q gradio --use-deprecated=legacy-resolver"
      ],
      "metadata": {
        "id": "Pnho8yDl1B1z"
      },
      "execution_count": null,
      "outputs": []
    },
    {
      "cell_type": "code",
      "source": [
        "!pip install -q gradio==3.45.0"
      ],
      "metadata": {
        "id": "ghh7dtPksgQB"
      },
      "execution_count": null,
      "outputs": []
    },
    {
      "cell_type": "code",
      "source": [
        "#!pip install --upgrade gradio"
      ],
      "metadata": {
        "id": "-5cRZjku688h"
      },
      "execution_count": null,
      "outputs": []
    },
    {
      "cell_type": "code",
      "source": [
        "import gradio as gr\n",
        "\n",
        "# 인터페이스를 생성.\n",
        "with gr.Blocks(theme='JohnSmith9982/small_and_pretty') as demo:\n",
        "\n",
        "    with gr.Row():\n",
        "        gr.HTML(\"\"\"\n",
        "            <div style=\"float:left\">\n",
        "                <img alt width=\"130\" height=\"130\" margin= \"0\" src=\"https://drive.google.com/uc?id=1oy23oCCrUENCnNThgByq3ZYNkGNgMnI3\" align=middle >\n",
        "            </div>\n",
        "            <div>\n",
        "                <h1>&ensp;</h1>\n",
        "                <h1>안녕하세요?</h1>\n",
        "                <h1>저는 AI 챗봇 용봉이에요</h1>\n",
        "            </div>\n",
        "        \"\"\")\n",
        "    chatbot = gr.Chatbot(label=\"대학생활 도우미 용봉이\")\n",
        "    msg = gr.Textbox(label=\"질문해주세요!\")\n",
        "    examples = gr.Examples(examples=[\"소프트웨어공학과 교양필수 과목은 뭐야?\", \"소프트웨어공학과 졸업요건은 뭐야?\",\"일반화학은 뭘 배워?\",\"휴학 신청하려면 어떻게 해?\"],\n",
        "                           inputs=[msg])\n",
        "\n",
        "    clear = gr.Button(\"대화 초기화\")\n",
        "\n",
        "    # 챗봇의 답변을 처리하는 함수\n",
        "    def respond(message, chat_history):\n",
        "      result = qa_chain(message)\n",
        "      bot_message = result['result']\n",
        "\n",
        "      # 채팅 기록에 사용자의 메시지와 봇의 응답을 추가.\n",
        "      chat_history.append((message, bot_message))\n",
        "      return \"\", chat_history\n",
        "\n",
        "    # 사용자의 입력을 제출(submit)하면 respond 함수가 호출.\n",
        "    msg.submit(respond, [msg, chatbot], [msg, chatbot])\n",
        "    # '초기화' 버튼을 클릭하면 채팅 기록을 초기화.\n",
        "    clear.click(lambda: None, None, chatbot, queue=False)\n",
        "\n",
        "# 인터페이스 실행.\n",
        "demo.launch(debug=True)"
      ],
      "metadata": {
        "colab": {
          "base_uri": "https://localhost:8080/",
          "height": 618
        },
        "id": "xFyCU0c2ZdaN",
        "outputId": "b7c959ef-7384-4dd6-ac6a-4103c24c14e3"
      },
      "execution_count": null,
      "outputs": [
        {
          "output_type": "stream",
          "name": "stdout",
          "text": [
            "Colab notebook detected. This cell will run indefinitely so that you can see errors and logs. To turn off, set debug=False in launch().\n",
            "Note: opening Chrome Inspector may crash demo inside Colab notebooks.\n",
            "\n",
            "To create a public link, set `share=True` in `launch()`.\n"
          ]
        },
        {
          "output_type": "display_data",
          "data": {
            "text/plain": [
              "<IPython.core.display.Javascript object>"
            ],
            "application/javascript": [
              "(async (port, path, width, height, cache, element) => {\n",
              "                        if (!google.colab.kernel.accessAllowed && !cache) {\n",
              "                            return;\n",
              "                        }\n",
              "                        element.appendChild(document.createTextNode(''));\n",
              "                        const url = await google.colab.kernel.proxyPort(port, {cache});\n",
              "\n",
              "                        const external_link = document.createElement('div');\n",
              "                        external_link.innerHTML = `\n",
              "                            <div style=\"font-family: monospace; margin-bottom: 0.5rem\">\n",
              "                                Running on <a href=${new URL(path, url).toString()} target=\"_blank\">\n",
              "                                    https://localhost:${port}${path}\n",
              "                                </a>\n",
              "                            </div>\n",
              "                        `;\n",
              "                        element.appendChild(external_link);\n",
              "\n",
              "                        const iframe = document.createElement('iframe');\n",
              "                        iframe.src = new URL(path, url).toString();\n",
              "                        iframe.height = height;\n",
              "                        iframe.allow = \"autoplay; camera; microphone; clipboard-read; clipboard-write;\"\n",
              "                        iframe.width = width;\n",
              "                        iframe.style.border = 0;\n",
              "                        element.appendChild(iframe);\n",
              "                    })(7860, \"/\", \"100%\", 500, false, window.element)"
            ]
          },
          "metadata": {}
        }
      ]
    }
  ]
}